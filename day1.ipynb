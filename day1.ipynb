{
  "nbformat": 4,
  "nbformat_minor": 0,
  "metadata": {
    "colab": {
      "provenance": []
    },
    "kernelspec": {
      "name": "python3",
      "display_name": "Python 3"
    },
    "language_info": {
      "name": "python"
    }
  },
  "cells": [
    {
      "cell_type": "code",
      "source": [
        "passcode=\"xyz\"\n",
        "attempt=3\n",
        "while attempt>0:\n",
        "  x=input(\"Enter the password:\")\n",
        "  if x==passcode:\n",
        "    print(\"Access Granted!\")\n",
        "    break\n",
        "  else:\n",
        "    attempt -=1\n",
        "    print(\"Only \",{attempt}, \"left\")\n",
        "  if attempt==0:\n",
        "    print(\"Try again later\")"
      ],
      "metadata": {
        "colab": {
          "base_uri": "https://localhost:8080/"
        },
        "id": "QqGbHS7rnq_l",
        "outputId": "134968ce-f9c0-4c92-d67e-b75776b322d0"
      },
      "execution_count": null,
      "outputs": [
        {
          "output_type": "stream",
          "name": "stdout",
          "text": [
            "Enter the password:xyx\n",
            "Only  {2} left\n",
            "Enter the password:fdg\n",
            "Only  {1} left\n",
            "Enter the password:xyz\n",
            "Access Granted!\n"
          ]
        }
      ]
    },
    {
      "cell_type": "code",
      "source": [
        "balance=12000\n",
        "x=int(input(\"Enter the amount\"))\n",
        "if x>int(balance):\n",
        "  print(\"Insufficient Balance\")\n",
        "else:\n",
        "  print(\"Transaction Successful\")\n",
        "  print(\"Available Balance is\",balance-x)"
      ],
      "metadata": {
        "colab": {
          "base_uri": "https://localhost:8080/"
        },
        "id": "BBzFri5HDwf4",
        "outputId": "58476bc3-b0e7-461f-caa5-cd806f9a5fae"
      },
      "execution_count": 1,
      "outputs": [
        {
          "output_type": "stream",
          "name": "stdout",
          "text": [
            "Enter the amount25000\n",
            "Insufficient Balance\n"
          ]
        }
      ]
    },
    {
      "cell_type": "code",
      "source": [
        "lst1=[\"Apple\",\"orange\",\"Mango\",\"abc\",123,2005,\"jackfruit\"]\n",
        "print(lst1[0:5])\n",
        "lst1[0]=\"kiwi\"\n",
        "print(lst1[0:2])\n",
        "lst1.remove(123)\n",
        "print(lst1)"
      ],
      "metadata": {
        "colab": {
          "base_uri": "https://localhost:8080/"
        },
        "id": "JFJeL-FfurcQ",
        "outputId": "6d7f2713-8825-4968-d839-33c6b5c41f6d"
      },
      "execution_count": null,
      "outputs": [
        {
          "output_type": "stream",
          "name": "stdout",
          "text": [
            "['Apple', 'orange', 'Mango', 'abc', 123]\n",
            "['kiwi', 'orange']\n",
            "['kiwi', 'orange', 'Mango', 'abc', 2005, 'jackfruit']\n"
          ]
        }
      ]
    },
    {
      "cell_type": "code",
      "source": [
        "lst2=[\"sigc\",\"ds\"]\n",
        "lst3=lst1+lst2\n",
        "for i in lst3:\n",
        "  print (i)\n",
        "lst3.insert(3,\"Mangosteem\")\n",
        "print (lst3)"
      ],
      "metadata": {
        "colab": {
          "base_uri": "https://localhost:8080/"
        },
        "id": "BJIyLh43wi5j",
        "outputId": "c0405aa5-0f59-4e03-b095-a5688a26727a"
      },
      "execution_count": null,
      "outputs": [
        {
          "output_type": "stream",
          "name": "stdout",
          "text": [
            "kiwi\n",
            "orange\n",
            "Mango\n",
            "abc\n",
            "2005\n",
            "jackfruit\n",
            "sigc\n",
            "ds\n",
            "['kiwi', 'orange', 'Mango', 'Mangosteem', 'abc', 2005, 'jackfruit', 'sigc', 'ds']\n"
          ]
        }
      ]
    },
    {
      "cell_type": "code",
      "source": [
        "x=\"I am Maha from Trichy\"\n",
        "print (x[5:9])\n",
        "x.upper()\n"
      ],
      "metadata": {
        "colab": {
          "base_uri": "https://localhost:8080/",
          "height": 53
        },
        "id": "AxPQgaL4zBRR",
        "outputId": "d0bffca4-c278-4275-9df7-09d77524c237"
      },
      "execution_count": null,
      "outputs": [
        {
          "output_type": "stream",
          "name": "stdout",
          "text": [
            "Maha\n"
          ]
        },
        {
          "output_type": "execute_result",
          "data": {
            "text/plain": [
              "'I AM MAHA FROM TRICHY'"
            ],
            "application/vnd.google.colaboratory.intrinsic+json": {
              "type": "string"
            }
          },
          "metadata": {},
          "execution_count": 39
        }
      ]
    },
    {
      "cell_type": "code",
      "source": [
        "x.lower()"
      ],
      "metadata": {
        "colab": {
          "base_uri": "https://localhost:8080/",
          "height": 35
        },
        "id": "0WK2hnm_1EDf",
        "outputId": "3c6ae990-bca6-46c1-8248-47a5afd3c2eb"
      },
      "execution_count": null,
      "outputs": [
        {
          "output_type": "execute_result",
          "data": {
            "text/plain": [
              "'i am maha from trichy'"
            ],
            "application/vnd.google.colaboratory.intrinsic+json": {
              "type": "string"
            }
          },
          "metadata": {},
          "execution_count": 40
        }
      ]
    },
    {
      "cell_type": "code",
      "source": [
        "x.lstrip()"
      ],
      "metadata": {
        "colab": {
          "base_uri": "https://localhost:8080/",
          "height": 35
        },
        "id": "7-5X8uP62BV9",
        "outputId": "91e361e0-4163-46c6-cb66-2b0c9a599c43"
      },
      "execution_count": null,
      "outputs": [
        {
          "output_type": "execute_result",
          "data": {
            "text/plain": [
              "'I am Maha from Trichy'"
            ],
            "application/vnd.google.colaboratory.intrinsic+json": {
              "type": "string"
            }
          },
          "metadata": {},
          "execution_count": 43
        }
      ]
    },
    {
      "cell_type": "code",
      "source": [
        "x.split()"
      ],
      "metadata": {
        "colab": {
          "base_uri": "https://localhost:8080/"
        },
        "id": "8sDRkaQR2xDE",
        "outputId": "36a3123a-477f-494b-ea41-e84238b0b5e6"
      },
      "execution_count": null,
      "outputs": [
        {
          "output_type": "execute_result",
          "data": {
            "text/plain": [
              "['I', 'am', 'Maha', 'from', 'Trichy']"
            ]
          },
          "metadata": {},
          "execution_count": 44
        }
      ]
    },
    {
      "cell_type": "code",
      "source": [
        "attempt=3\n",
        "print(f\"only {attempt} left\")"
      ],
      "metadata": {
        "colab": {
          "base_uri": "https://localhost:8080/"
        },
        "id": "OARonzId4Uec",
        "outputId": "aedf6051-9a9a-44da-c7fe-8fcd3453bdde"
      },
      "execution_count": null,
      "outputs": [
        {
          "output_type": "stream",
          "name": "stdout",
          "text": [
            "only 3 left\n"
          ]
        }
      ]
    },
    {
      "cell_type": "code",
      "source": [
        "y=\" second Ds\"\n",
        "x+y"
      ],
      "metadata": {
        "colab": {
          "base_uri": "https://localhost:8080/",
          "height": 35
        },
        "id": "ufZqreAI3M1w",
        "outputId": "4a584850-2277-4121-bae6-b1c008a05a5d"
      },
      "execution_count": null,
      "outputs": [
        {
          "output_type": "execute_result",
          "data": {
            "text/plain": [
              "'I am Maha from Trichy second Ds'"
            ],
            "application/vnd.google.colaboratory.intrinsic+json": {
              "type": "string"
            }
          },
          "metadata": {},
          "execution_count": 48
        }
      ]
    }
  ]
}